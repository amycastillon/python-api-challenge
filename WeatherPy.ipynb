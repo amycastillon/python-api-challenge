{
 "cells": [
  {
   "cell_type": "markdown",
   "metadata": {},
   "source": [
    "# WeatherPy\n",
    "----\n",
    "\n",
    "#### Note\n",
    "* Instructions have been included for each segment. You do not have to follow them exactly, but they are included to help you think through the steps."
   ]
  },
  {
   "cell_type": "code",
   "execution_count": 3,
   "metadata": {
    "scrolled": true
   },
   "outputs": [],
   "source": [
    "# Dependencies and Setup\n",
    "import matplotlib.pyplot as plt\n",
    "import pandas as pd\n",
    "import numpy as np\n",
    "import requests\n",
    "import time\n",
    "from scipy.stats import linregress\n",
    "import json\n",
    "\n",
    "# Import API key\n",
    "from api_keys import weather_api_key\n",
    "\n",
    "# Incorporated citipy to determine city based on latitude and longitude\n",
    "from citipy import citipy\n",
    "\n",
    "# Output File (CSV)\n",
    "output_data_file = \"output_data/cities.csv\"\n",
    "\n",
    "# Range of latitudes and longitudes\n",
    "lat_range = (-90, 90)\n",
    "lng_range = (-180, 180)"
   ]
  },
  {
   "cell_type": "markdown",
   "metadata": {},
   "source": [
    "## Generate Cities List"
   ]
  },
  {
   "cell_type": "code",
   "execution_count": 4,
   "metadata": {},
   "outputs": [
    {
     "data": {
      "text/plain": [
       "615"
      ]
     },
     "execution_count": 4,
     "metadata": {},
     "output_type": "execute_result"
    }
   ],
   "source": [
    "# List for holding lat_lngs and cities\n",
    "lat_lngs = []\n",
    "cities = []\n",
    "\n",
    "# Create a set of random lat and lng combinations\n",
    "lats = np.random.uniform(lat_range[0], lat_range[1], size=1500)\n",
    "lngs = np.random.uniform(lng_range[0], lng_range[1], size=1500)\n",
    "lat_lngs = zip(lats, lngs)\n",
    "\n",
    "# Identify nearest city for each lat, lng combination\n",
    "for lat_lng in lat_lngs:\n",
    "    city = citipy.nearest_city(lat_lng[0], lat_lng[1]).city_name\n",
    "    \n",
    "    # If the city is unique, then add it to a our cities list\n",
    "    if city not in cities:\n",
    "        cities.append(city)\n",
    "\n",
    "# Print the city count to confirm sufficient count\n",
    "len(cities)"
   ]
  },
  {
   "cell_type": "markdown",
   "metadata": {},
   "source": [
    "### Perform API Calls\n",
    "* Perform a weather check on each city using a series of successive API calls.\n",
    "* Include a print log of each city as it'sbeing processed (with the city number and city name).\n",
    "\n",
    "> **HINT:** The OpenWeatherMap API only allows 60 calls per minute under their free plan. Try using `time.sleep(60)` after each set of 50 cities to avoid API errors due to large calls."
   ]
  },
  {
   "cell_type": "code",
   "execution_count": 4,
   "metadata": {
    "scrolled": true
   },
   "outputs": [],
   "source": [
    "#url = f'http://api.openweathermap.org/data/2.5/weather?q={city}&appid={weather_api_key}&units=imperial'\n",
    "#test_url = f'http://api.openweathermap.org/data/2.5/weather?q={cities[0]}&appid={weather_api_key}&units=imperial'\n",
    "#response = requests.get(test_url).json()\n",
    "#print(json.dumps(response, indent=4))\n",
    "\n"
   ]
  },
  {
   "cell_type": "markdown",
   "metadata": {},
   "source": [
    "### Convert Raw Data to DataFrame\n",
    "* Export the city data into a .csv.\n",
    "* Display the DataFrame"
   ]
  },
  {
   "cell_type": "code",
   "execution_count": 5,
   "metadata": {},
   "outputs": [
    {
     "name": "stdout",
     "output_type": "stream",
     "text": [
      "#1: beloha\n",
      "#2: mgandu\n",
      "#3: mys shmidta\n",
      "#4: punta arenas\n",
      "#5: mataura\n",
      "#6: jamestown\n",
      "#7: ambodifototra\n",
      "#8: deputatskiy\n",
      "#9: albany\n",
      "#10: east london\n",
      "#11: rungata\n",
      "#12: kapaa\n",
      "#13: yurty\n",
      "#14: bombay\n",
      "#15: belushya guba\n",
      "#16: talnakh\n",
      "#17: grand river south east\n",
      "#18: busselton\n",
      "#19: rikitea\n",
      "#20: amderma\n",
      "#21: barrow\n",
      "#22: mount gambier\n",
      "#23: bathsheba\n",
      "#24: oussouye\n",
      "#25: barentsburg\n",
      "#26: campo grande\n",
      "#27: laguna\n",
      "#28: chhuikhadan\n",
      "#29: ahipara\n",
      "#30: cherskiy\n",
      "#31: atuona\n",
      "#32: ponta do sol\n",
      "#33: sinop\n",
      "#34: kamariotissa\n",
      "#35: tautira\n",
      "#36: marmora\n",
      "#37: bambous virieux\n",
      "#38: fort nelson\n",
      "#39: gazli\n",
      "#40: hobart\n",
      "#41: saint george\n",
      "#42: carnarvon\n",
      "#43: puerto ayora\n",
      "#44: dingle\n",
      "#45: broken hill\n",
      "#46: vila do maio\n",
      "#47: alihe\n",
      "#48: norden\n",
      "#49: bhadrachalam\n",
      "#50: hilo\n",
      "#51: butaritari\n",
      "#52: biltine\n",
      "#53: vaini\n",
      "#54: lompoc\n",
      "#55: port elizabeth\n",
      "#56: tingo maria\n",
      "#57: srednekolymsk\n",
      "#58: taolanaro\n",
      "#59: bluff\n",
      "#60: ushuaia\n",
      "#61: new norfolk\n",
      "#62: sao joao da barra\n",
      "#63: geraldton\n",
      "#64: castro\n",
      "#65: tuktoyaktuk\n",
      "#66: illoqqortoormiut\n",
      "#67: qaanaaq\n",
      "#68: hithadhoo\n",
      "#69: thompson\n",
      "#70: price\n",
      "#71: flinders\n",
      "#72: evensk\n",
      "#73: homer\n",
      "#74: norman wells\n",
      "#75: la ronge\n",
      "#76: sretensk\n",
      "#77: sentyabrskiy\n",
      "#78: ayni\n",
      "#79: margate\n",
      "#80: weyburn\n",
      "#81: henties bay\n",
      "#82: coahuayana\n",
      "#83: gorizia\n",
      "#84: port blair\n",
      "#85: valparaiso\n",
      "#86: khania\n",
      "#87: kalmunai\n",
      "#88: saint-philippe\n",
      "#89: anadyr\n",
      "#90: torbay\n",
      "#91: pisco\n",
      "#92: ilulissat\n",
      "#93: pevek\n",
      "#94: egvekinot\n",
      "#95: mazagao\n",
      "#96: rundu\n",
      "#97: cape town\n",
      "#98: along\n",
      "#99: upernavik\n",
      "#100: sur\n",
      "#101: samusu\n",
      "#102: tigil\n",
      "#103: solnechnyy\n",
      "#104: killybegs\n",
      "#105: kaitangata\n",
      "#106: cidreira\n",
      "#107: providencia\n",
      "#108: dikson\n",
      "#109: severo-kurilsk\n",
      "#110: bredasdorp\n",
      "#111: beringovskiy\n",
      "#112: mar del plata\n",
      "#113: port-gentil\n",
      "#114: nanortalik\n",
      "#115: correntina\n",
      "#116: kangaatsiaq\n",
      "#117: gunnedah\n",
      "#118: marzuq\n",
      "#119: lagos\n",
      "#120: snasa\n",
      "#121: college\n",
      "#122: gorontalo\n",
      "#123: oistins\n",
      "#124: bengkulu\n",
      "#125: manhattan\n",
      "#126: soyo\n",
      "#127: faanui\n",
      "#128: hermanus\n",
      "#129: kawana waters\n",
      "#130: riyadh\n",
      "#131: kavieng\n",
      "#132: lavrentiya\n",
      "#133: cottonwood\n",
      "#134: klaksvik\n",
      "#135: kloulklubed\n",
      "#136: saldanha\n",
      "#137: livingston\n",
      "#138: bocaranga\n",
      "#139: tierranueva\n",
      "#140: ribeira brava\n",
      "#141: belaya gora\n",
      "#142: esperance\n",
      "#143: jalu\n",
      "#144: ceres\n",
      "#145: cabo san lucas\n",
      "#146: kodiak\n",
      "#147: vibo valentia\n",
      "#148: teya\n",
      "#149: avarua\n",
      "#150: sumenep\n",
      "#151: mahebourg\n",
      "#152: lebu\n",
      "#153: ola\n",
      "#154: georgetown\n",
      "#155: namibe\n",
      "#156: atar\n",
      "#157: polis\n",
      "#158: clyde river\n",
      "#159: edd\n",
      "#160: burgeo\n",
      "#161: sovetskaya gavan\n",
      "#162: longyearbyen\n",
      "#163: ifo\n",
      "#164: tolaga bay\n",
      "#165: lata\n",
      "#166: portland\n",
      "#167: vaitupu\n",
      "#168: novikovo\n",
      "#169: warqla\n",
      "#170: mvangue\n",
      "#171: parabel\n",
      "#172: olafsvik\n",
      "#173: itoman\n",
      "#174: pasighat\n",
      "#175: tocopilla\n",
      "#176: mocambique\n",
      "#177: nikolskoye\n",
      "#178: vetluzhskiy\n",
      "#179: chuy\n",
      "#180: xudat\n",
      "#181: port hedland\n",
      "#182: monterey\n",
      "#183: haines junction\n",
      "#184: sukumo\n",
      "#185: nemuro\n",
      "#186: kokologo\n",
      "#187: hofn\n",
      "#188: erzin\n",
      "#189: chelyabinsk-40\n",
      "#190: vila\n",
      "#191: fuzhou\n",
      "#192: ribeira grande\n",
      "#193: iqaluit\n",
      "#194: shahr-e babak\n",
      "#195: tiznit\n",
      "#196: awjilah\n",
      "#197: isoka\n",
      "#198: gulshat\n",
      "#199: port alfred\n",
      "#200: mersing\n",
      "#201: constitucion\n",
      "#202: vardo\n",
      "#203: tasiilaq\n",
      "#204: ust-kuyga\n",
      "#205: saleaula\n",
      "#206: paradwip\n",
      "#207: tateyama\n",
      "#208: lorengau\n",
      "#209: nanganga\n",
      "#210: lardos\n",
      "#211: san quintin\n",
      "#212: tyazhinskiy\n",
      "#213: lagoa\n",
      "#214: westport\n",
      "#215: sirsa\n",
      "#216: dwarka\n",
      "#217: codrington\n",
      "#218: bubaque\n",
      "#219: hay river\n",
      "#220: tuatapere\n",
      "#221: saint anthony\n",
      "#222: sterling\n",
      "#223: bargal\n",
      "#224: moche\n",
      "#225: weligama\n",
      "#226: krutinka\n",
      "#227: husavik\n",
      "#228: fortuna\n",
      "#229: rangpo\n",
      "#230: itamarandiba\n",
      "#231: acarau\n",
      "#232: barbar\n",
      "#233: fare\n",
      "#234: kulhudhuffushi\n",
      "#235: attawapiskat\n",
      "#236: vestmannaeyjar\n",
      "#237: rawson\n",
      "#238: vestby\n",
      "#239: semnan\n",
      "#240: te anau\n",
      "#241: cockburn town\n",
      "#242: steinbach\n",
      "#243: arraial do cabo\n",
      "#244: huicungo\n",
      "#245: bangolo\n",
      "#246: namatanai\n",
      "#247: saskylakh\n",
      "#248: alice springs\n",
      "#249: zachagansk\n",
      "#250: burica\n",
      "#251: asilah\n",
      "#252: narasannapeta\n",
      "#253: hirara\n",
      "#254: vila velha\n",
      "#255: qui nhon\n",
      "#256: mana\n",
      "#257: neuquen\n",
      "#258: eirunepe\n",
      "#259: la romana\n",
      "#260: fairbanks\n",
      "#261: buin\n",
      "#262: vostok\n",
      "#263: yellowknife\n",
      "#264: dubbo\n",
      "#265: tapes\n",
      "#266: bakreswar\n",
      "#267: cam ranh\n",
      "#268: marystown\n",
      "#269: kuche\n",
      "#270: okhotsk\n",
      "#271: grand gaube\n",
      "#272: vicuna\n",
      "#273: colares\n",
      "#274: esso\n",
      "#275: zolotinka\n",
      "#276: benguela\n",
      "#277: luwuk\n",
      "#278: albanel\n",
      "#279: port hardy\n",
      "#280: khatanga\n",
      "#281: kushima\n",
      "#282: vallenar\n",
      "#283: yuci\n",
      "#284: the pas\n",
      "#285: noyabrsk\n",
      "#286: coquimbo\n",
      "#287: yanam\n",
      "#288: hornepayne\n",
      "#289: beira\n",
      "#290: andenes\n",
      "#291: poum\n",
      "#292: batagay\n",
      "#293: gillette\n",
      "#294: lesnoy\n",
      "#295: yakeshi\n",
      "#296: bournemouth\n",
      "#297: neiafu\n",
      "#298: ponnani\n",
      "#299: goma\n",
      "#300: general roca\n",
      "#301: sulangan\n",
      "#302: carutapera\n",
      "#303: beyneu\n",
      "#304: popondetta\n",
      "#305: chokurdakh\n",
      "#306: hasaki\n",
      "#307: bethel\n",
      "#308: belgrade\n",
      "#309: tual\n",
      "#310: tiksi\n",
      "#311: buta\n",
      "#312: victoria\n",
      "#313: quatre cocos\n",
      "#314: samarai\n",
      "#315: mrirt\n",
      "#316: galle\n",
      "#317: nouna\n",
      "#318: bandarbeyla\n",
      "#319: maragogi\n",
      "#320: cardonal\n",
      "#321: minot\n",
      "#322: obihiro\n",
      "#323: yaval\n",
      "#324: tirschenreuth\n",
      "#325: whitehorse\n",
      "#326: gimli\n",
      "#327: berlevag\n",
      "#328: manaus\n",
      "#329: salalah\n",
      "#330: adrar\n",
      "#331: mentok\n",
      "#332: villefranche-de-rouergue\n",
      "#333: yashan\n",
      "#334: conceicao do araguaia\n",
      "#335: baruun-urt\n",
      "#336: souillac\n",
      "#337: nizhneyansk\n",
      "#338: gemena\n",
      "#339: aksarka\n",
      "#340: kropotkin\n",
      "#341: novyy urengoy\n",
      "#342: warrnambool\n",
      "#343: khani\n",
      "#344: pangnirtung\n",
      "#345: vestmanna\n",
      "#346: mujiayingzi\n",
      "#347: xining\n",
      "#348: barda\n",
      "#349: bako\n",
      "#350: agalatovo\n",
      "#351: tambovka\n",
      "#352: nouadhibou\n",
      "#353: ystad\n",
      "#354: kahului\n",
      "#355: guajara-mirim\n",
      "#356: pitimbu\n",
      "#357: kochki\n",
      "#358: tyukhtet\n",
      "#359: aquiraz\n",
      "#360: erenhot\n",
      "#361: san patricio\n",
      "#362: ulladulla\n",
      "#363: candelaria\n",
      "#364: airai\n",
      "#365: ruatoria\n",
      "#366: walvis bay\n",
      "#367: kysyl-syr\n",
      "#368: tigre\n",
      "#369: sabang\n",
      "#370: pytalovo\n",
      "#371: reconquista\n",
      "#372: ulagan\n",
      "#373: tomatlan\n",
      "#374: narsaq\n",
      "#375: san policarpo\n",
      "#376: butterworth\n",
      "#377: totness\n",
      "#378: nipani\n",
      "#379: puerto ayacucho\n",
      "#380: aksu\n",
      "#381: stornoway\n",
      "#382: hobyo\n",
      "#383: rawannawi\n",
      "#384: alacranes\n",
      "#385: dolinsk\n",
      "#386: san juan\n",
      "#387: shima\n",
      "#388: los angeles\n",
      "#389: temaraia\n",
      "#390: ostrovnoy\n",
      "#391: iquitos\n",
      "#392: isangel\n",
      "#393: traverse city\n",
      "#394: aberdeen\n",
      "#395: itarema\n",
      "#396: aykhal\n",
      "#397: chissamba\n",
      "#398: tsihombe\n",
      "#399: sindor\n",
      "#400: turtas\n",
      "#401: nishihara\n",
      "#402: skalistyy\n",
      "#403: isfana\n",
      "#404: unye\n",
      "#405: okha\n",
      "#406: phan rang\n",
      "#407: krasnoselkup\n",
      "#408: celestun\n",
      "#409: dianopolis\n",
      "#410: katima mulilo\n",
      "#411: san cristobal\n",
      "#412: sosnogorsk\n",
      "#413: yazoo city\n",
      "#414: hammerfest\n",
      "#415: bondo\n",
      "#416: biloela\n",
      "#417: sao gabriel da cachoeira\n",
      "#418: phonhong\n",
      "#419: kamina\n",
      "#420: necochea\n",
      "#421: touros\n",
      "#422: mehamn\n",
      "#423: kudahuvadhoo\n",
      "#424: yulara\n",
      "#425: samagaltay\n",
      "#426: paka\n",
      "#427: chiplun\n",
      "#428: natal\n",
      "#429: kazerun\n",
      "#430: louisbourg\n",
      "#431: puerto asis\n",
      "#432: ancud\n",
      "#433: porto novo\n",
      "#434: rio gallegos\n",
      "#435: son la\n",
      "#436: lolua\n",
      "#437: lima\n",
      "#438: palabuhanratu\n",
      "#439: bosaso\n",
      "#440: sitka\n",
      "#441: genhe\n",
      "#442: balkanabat\n",
      "#443: hirado\n",
      "#444: maiduguri\n",
      "#445: yumen\n",
      "#446: kalmar\n",
      "#447: eldikan\n",
      "#448: bilma\n",
      "#449: itaperucu\n",
      "#450: dolbeau\n",
      "#451: vigia\n",
      "#452: bodoco\n",
      "#453: dinguiraye\n",
      "#454: turka\n",
      "#455: paso de los toros\n",
      "#456: maceio\n",
      "#457: yazman\n",
      "#458: ayan\n",
      "#459: linares\n",
      "#460: kurilsk\n",
      "#461: laguna de perlas\n",
      "#462: utiroa\n",
      "#463: qaqortoq\n",
      "#464: tura\n",
      "#465: troy\n",
      "#466: sao filipe\n",
      "#467: kondinskoye\n",
      "#468: boueni\n",
      "#469: zhuhai\n",
      "#470: bourail\n",
      "#471: derzhavinsk\n",
      "#472: chopda\n",
      "#473: kieta\n",
      "#474: alamogordo\n",
      "#475: ibirapitanga\n",
      "#476: himora\n",
      "#477: mount isa\n",
      "#478: ambon\n",
      "#479: karakendzha\n",
      "#480: kowary\n",
      "#481: tazirkah\n",
      "#482: moron\n",
      "#483: muros\n",
      "#484: korla\n",
      "#485: conceicao das alagoas\n",
      "#486: athlone\n",
      "#487: wairoa\n",
      "#488: chanute\n",
      "#489: provideniya\n",
      "#490: villa rica\n",
      "#491: dondo\n",
      "#492: stromness\n",
      "#493: xingyi\n",
      "#494: panama city\n",
      "#495: port lincoln\n",
      "#496: wladyslawowo\n",
      "#497: vila franca do campo\n",
      "#498: alto vera\n",
      "#499: sola\n",
      "#500: havoysund\n",
      "#501: vaitape\n",
      "#502: mombetsu\n",
      "#503: bonavista\n",
      "#504: khowst\n",
      "#505: kytlym\n",
      "#506: havre-saint-pierre\n",
      "#507: hovd\n",
      "#508: kilrush\n",
      "#509: awbari\n",
      "#510: marsa matruh\n",
      "#511: viedma\n",
      "#512: mehran\n",
      "#513: coolum beach\n",
      "#514: baker city\n",
      "#515: jiamusi\n",
      "#516: zaplyusye\n",
      "#517: blackwater\n",
      "#518: alakurtti\n",
      "#519: hami\n",
      "#520: wad madani\n",
      "#521: tessalit\n",
      "#522: kungurtug\n",
      "#523: daru\n",
      "#524: honiara\n",
      "#525: gazanjyk\n",
      "#526: najran\n",
      "#527: voka\n",
      "#528: gewane\n",
      "#529: haimen\n",
      "#530: bilibino\n",
      "#531: mayumba\n",
      "#532: poya\n",
      "#533: phangnga\n",
      "#534: ferrol\n",
      "#535: sibolga\n",
      "#536: marathon\n",
      "#537: pemangkat\n",
      "#538: harper\n",
      "#539: kiunga\n",
      "#540: padang\n",
      "#541: petrokamenskoye\n",
      "#542: formosa\n",
      "#543: iturama\n",
      "#544: los llanos de aridane\n",
      "#545: illapel\n",
      "#546: nuuk\n",
      "#547: tabiauea\n",
      "#548: scarborough\n",
      "#549: sorong\n",
      "#550: gweta\n",
      "#551: arroyos y esteros\n",
      "#552: taoudenni\n",
      "#553: maumere\n",
      "#554: mbala\n",
      "#555: vanavara\n",
      "#556: ulaangom\n",
      "#557: tamandare\n",
      "#558: plettenberg bay\n",
      "#559: labuhan\n",
      "#560: strezhevoy\n",
      "#561: acari\n",
      "#562: san ramon\n",
      "#563: pimentel\n",
      "#564: ust-ilimsk\n",
      "#565: babanusah\n",
      "#566: port macquarie\n",
      "#567: mahibadhoo\n",
      "#568: hendek\n",
      "#569: pacific grove\n",
      "#570: wanxian\n",
      "#571: puerto leguizamo\n",
      "#572: takapau\n",
      "#573: rio grande\n",
      "#574: wattegama\n",
      "#575: niteroi\n",
      "#576: coihaique\n",
      "#577: gravdal\n",
      "#578: kalemie\n",
      "#579: iaciara\n",
      "#580: batemans bay\n",
      "#581: nassau\n",
      "#582: verkhnevilyuysk\n",
      "#583: meulaboh\n",
      "#584: mashhad\n",
      "#585: ishigaki\n",
      "#586: messina\n",
      "#587: grindavik\n",
      "#588: stoyba\n",
      "#589: acajutla\n",
      "#590: gornyy\n",
      "#591: dolores\n",
      "#592: murighiol\n",
      "#593: praia da vitoria\n",
      "#594: ksenyevka\n",
      "#595: florian\n",
      "#596: alegrete\n",
      "#597: batagay-alyta\n",
      "#598: auki\n",
      "#599: tezu\n",
      "#600: kang\n",
      "#601: borogontsy\n",
      "#602: samalaeulu\n",
      "#603: torrington\n",
      "#604: maroantsetra\n",
      "#605: planadas\n",
      "#606: leh\n",
      "#607: prince rupert\n",
      "#608: aqtobe\n",
      "#609: norrkoping\n",
      "#610: crotone\n",
      "#611: karratha\n",
      "#612: coos bay\n",
      "#613: akot\n",
      "#614: ngukurr\n",
      "#615: gat\n"
     ]
    }
   ],
   "source": [
    "city_count = 0\n",
    "total_cities = 1\n",
    "\n",
    "city_name = []\n",
    "lat = []\n",
    "lng = []\n",
    "max_temps = []\n",
    "humidity = []\n",
    "cloudiness = []\n",
    "wind_speed = []\n",
    "country = []\n",
    "date = []\n",
    "\n",
    "\n",
    "for city in cities:\n",
    "    url = f'http://api.openweathermap.org/data/2.5/weather?q={city}&appid={weather_api_key}&units=imperial'\n",
    "\n",
    "    response = requests.get(url).json()\n",
    "    try:\n",
    "        city_name.append(response['name'])\n",
    "        lat.append(response['coord']['lat'])\n",
    "        lng.append(response['coord']['lon'])\n",
    "        max_temps.append(response['main']['temp_max'])\n",
    "        humidity.append(response['main']['humidity'])\n",
    "        cloudiness.append(response['clouds']['all'])\n",
    "        wind_speed.append(response['wind']['speed'])\n",
    "        country.append(response['sys']['country'])\n",
    "        date.append(response['dt'])\n",
    "    except:\n",
    "        city_name.append('N/A')\n",
    "        lat.append('N/A')\n",
    "        lng.append('N/A')\n",
    "        max_temps.append('N/A')\n",
    "        humidity.append('N/A')\n",
    "        cloudiness.append('N/A')\n",
    "        wind_speed.append('N/A')\n",
    "        country.append('N/A')\n",
    "        date.append('N/A')\n",
    "\n",
    "    print(f'#{total_cities}: {city}')\n",
    "    total_cities += 1\n",
    "    city_count += 1      \n",
    "\n",
    "    if city_count > 49:\n",
    "        time.sleep(60)\n",
    "        city_count = 0\n",
    "\n"
   ]
  },
  {
   "cell_type": "code",
   "execution_count": 6,
   "metadata": {},
   "outputs": [
    {
     "data": {
      "text/html": [
       "<div>\n",
       "<style scoped>\n",
       "    .dataframe tbody tr th:only-of-type {\n",
       "        vertical-align: middle;\n",
       "    }\n",
       "\n",
       "    .dataframe tbody tr th {\n",
       "        vertical-align: top;\n",
       "    }\n",
       "\n",
       "    .dataframe thead th {\n",
       "        text-align: right;\n",
       "    }\n",
       "</style>\n",
       "<table border=\"1\" class=\"dataframe\">\n",
       "  <thead>\n",
       "    <tr style=\"text-align: right;\">\n",
       "      <th></th>\n",
       "      <th>City</th>\n",
       "      <th>Lat</th>\n",
       "      <th>Lng</th>\n",
       "      <th>Max Temp</th>\n",
       "      <th>Humidity</th>\n",
       "      <th>Cloudiness</th>\n",
       "      <th>Wind Speed</th>\n",
       "      <th>Country</th>\n",
       "      <th>Date</th>\n",
       "    </tr>\n",
       "  </thead>\n",
       "  <tbody>\n",
       "    <tr>\n",
       "      <th>0</th>\n",
       "      <td>Beloha</td>\n",
       "      <td>-25.1667</td>\n",
       "      <td>45.05</td>\n",
       "      <td>72.84</td>\n",
       "      <td>90</td>\n",
       "      <td>0</td>\n",
       "      <td>8.43</td>\n",
       "      <td>MG</td>\n",
       "      <td>1645494543</td>\n",
       "    </tr>\n",
       "    <tr>\n",
       "      <th>1</th>\n",
       "      <td>Mgandu</td>\n",
       "      <td>-5.95</td>\n",
       "      <td>34.1333</td>\n",
       "      <td>59.77</td>\n",
       "      <td>96</td>\n",
       "      <td>100</td>\n",
       "      <td>3.33</td>\n",
       "      <td>TZ</td>\n",
       "      <td>1645494596</td>\n",
       "    </tr>\n",
       "    <tr>\n",
       "      <th>2</th>\n",
       "      <td>N/A</td>\n",
       "      <td>N/A</td>\n",
       "      <td>N/A</td>\n",
       "      <td>N/A</td>\n",
       "      <td>N/A</td>\n",
       "      <td>N/A</td>\n",
       "      <td>N/A</td>\n",
       "      <td>N/A</td>\n",
       "      <td>N/A</td>\n",
       "    </tr>\n",
       "    <tr>\n",
       "      <th>3</th>\n",
       "      <td>Punta Arenas</td>\n",
       "      <td>-53.15</td>\n",
       "      <td>-70.9167</td>\n",
       "      <td>59.11</td>\n",
       "      <td>55</td>\n",
       "      <td>40</td>\n",
       "      <td>4.61</td>\n",
       "      <td>CL</td>\n",
       "      <td>1645494597</td>\n",
       "    </tr>\n",
       "    <tr>\n",
       "      <th>4</th>\n",
       "      <td>Mataura</td>\n",
       "      <td>-46.1927</td>\n",
       "      <td>168.864</td>\n",
       "      <td>50.65</td>\n",
       "      <td>98</td>\n",
       "      <td>100</td>\n",
       "      <td>6.87</td>\n",
       "      <td>NZ</td>\n",
       "      <td>1645494597</td>\n",
       "    </tr>\n",
       "    <tr>\n",
       "      <th>...</th>\n",
       "      <td>...</td>\n",
       "      <td>...</td>\n",
       "      <td>...</td>\n",
       "      <td>...</td>\n",
       "      <td>...</td>\n",
       "      <td>...</td>\n",
       "      <td>...</td>\n",
       "      <td>...</td>\n",
       "      <td>...</td>\n",
       "    </tr>\n",
       "    <tr>\n",
       "      <th>610</th>\n",
       "      <td>Karratha</td>\n",
       "      <td>-20.7377</td>\n",
       "      <td>116.846</td>\n",
       "      <td>92.57</td>\n",
       "      <td>45</td>\n",
       "      <td>68</td>\n",
       "      <td>9.28</td>\n",
       "      <td>AU</td>\n",
       "      <td>1645495523</td>\n",
       "    </tr>\n",
       "    <tr>\n",
       "      <th>611</th>\n",
       "      <td>Coos Bay</td>\n",
       "      <td>43.3665</td>\n",
       "      <td>-124.218</td>\n",
       "      <td>42.93</td>\n",
       "      <td>98</td>\n",
       "      <td>73</td>\n",
       "      <td>11.01</td>\n",
       "      <td>US</td>\n",
       "      <td>1645495261</td>\n",
       "    </tr>\n",
       "    <tr>\n",
       "      <th>612</th>\n",
       "      <td>Akot</td>\n",
       "      <td>21.0964</td>\n",
       "      <td>77.0586</td>\n",
       "      <td>70.41</td>\n",
       "      <td>24</td>\n",
       "      <td>0</td>\n",
       "      <td>2.53</td>\n",
       "      <td>IN</td>\n",
       "      <td>1645495523</td>\n",
       "    </tr>\n",
       "    <tr>\n",
       "      <th>613</th>\n",
       "      <td>N/A</td>\n",
       "      <td>N/A</td>\n",
       "      <td>N/A</td>\n",
       "      <td>N/A</td>\n",
       "      <td>N/A</td>\n",
       "      <td>N/A</td>\n",
       "      <td>N/A</td>\n",
       "      <td>N/A</td>\n",
       "      <td>N/A</td>\n",
       "    </tr>\n",
       "    <tr>\n",
       "      <th>614</th>\n",
       "      <td>Kiryat Gat</td>\n",
       "      <td>31.61</td>\n",
       "      <td>34.7642</td>\n",
       "      <td>56.39</td>\n",
       "      <td>100</td>\n",
       "      <td>7</td>\n",
       "      <td>1.5</td>\n",
       "      <td>IL</td>\n",
       "      <td>1645495524</td>\n",
       "    </tr>\n",
       "  </tbody>\n",
       "</table>\n",
       "<p>615 rows × 9 columns</p>\n",
       "</div>"
      ],
      "text/plain": [
       "             City      Lat      Lng Max Temp Humidity Cloudiness Wind Speed  \\\n",
       "0          Beloha -25.1667    45.05    72.84       90          0       8.43   \n",
       "1          Mgandu    -5.95  34.1333    59.77       96        100       3.33   \n",
       "2             N/A      N/A      N/A      N/A      N/A        N/A        N/A   \n",
       "3    Punta Arenas   -53.15 -70.9167    59.11       55         40       4.61   \n",
       "4         Mataura -46.1927  168.864    50.65       98        100       6.87   \n",
       "..            ...      ...      ...      ...      ...        ...        ...   \n",
       "610      Karratha -20.7377  116.846    92.57       45         68       9.28   \n",
       "611      Coos Bay  43.3665 -124.218    42.93       98         73      11.01   \n",
       "612          Akot  21.0964  77.0586    70.41       24          0       2.53   \n",
       "613           N/A      N/A      N/A      N/A      N/A        N/A        N/A   \n",
       "614    Kiryat Gat    31.61  34.7642    56.39      100          7        1.5   \n",
       "\n",
       "    Country        Date  \n",
       "0        MG  1645494543  \n",
       "1        TZ  1645494596  \n",
       "2       N/A         N/A  \n",
       "3        CL  1645494597  \n",
       "4        NZ  1645494597  \n",
       "..      ...         ...  \n",
       "610      AU  1645495523  \n",
       "611      US  1645495261  \n",
       "612      IN  1645495523  \n",
       "613     N/A         N/A  \n",
       "614      IL  1645495524  \n",
       "\n",
       "[615 rows x 9 columns]"
      ]
     },
     "execution_count": 6,
     "metadata": {},
     "output_type": "execute_result"
    }
   ],
   "source": [
    "weather_df = pd.DataFrame({\n",
    "    'City': city_name,\n",
    "    'Lat': lat,\n",
    "    'Lng': lng,\n",
    "    'Max Temp': max_temps,\n",
    "    'Humidity': humidity,\n",
    "    'Cloudiness': cloudiness,\n",
    "    'Wind Speed': wind_speed,\n",
    "    'Country': country,\n",
    "    'Date': date\n",
    "})\n",
    "weather_df\n"
   ]
  },
  {
   "cell_type": "code",
   "execution_count": 7,
   "metadata": {},
   "outputs": [],
   "source": [
    "missing_data = weather_df['City']== 'N/A'\n",
    "#missing_data\n",
    "missing_index = weather_df.loc[missing_data].index\n",
    "#missing_index\n",
    "fixed_df = weather_df.drop(missing_index)\n",
    "fixed_df\n",
    "\n",
    "fixed_df.to_csv('Weather Output/fixed_weather.csv')"
   ]
  },
  {
   "cell_type": "code",
   "execution_count": 15,
   "metadata": {},
   "outputs": [
    {
     "data": {
      "text/html": [
       "<div>\n",
       "<style scoped>\n",
       "    .dataframe tbody tr th:only-of-type {\n",
       "        vertical-align: middle;\n",
       "    }\n",
       "\n",
       "    .dataframe tbody tr th {\n",
       "        vertical-align: top;\n",
       "    }\n",
       "\n",
       "    .dataframe thead th {\n",
       "        text-align: right;\n",
       "    }\n",
       "</style>\n",
       "<table border=\"1\" class=\"dataframe\">\n",
       "  <thead>\n",
       "    <tr style=\"text-align: right;\">\n",
       "      <th></th>\n",
       "      <th>City</th>\n",
       "      <th>Lat</th>\n",
       "      <th>Lng</th>\n",
       "      <th>Max Temp</th>\n",
       "      <th>Humidity</th>\n",
       "      <th>Cloudiness</th>\n",
       "      <th>Wind Speed</th>\n",
       "      <th>Country</th>\n",
       "      <th>Date</th>\n",
       "    </tr>\n",
       "  </thead>\n",
       "  <tbody>\n",
       "    <tr>\n",
       "      <td>0</td>\n",
       "      <td>butaritari</td>\n",
       "      <td>3.07</td>\n",
       "      <td>172.79</td>\n",
       "      <td>83.32</td>\n",
       "      <td>74</td>\n",
       "      <td>84</td>\n",
       "      <td>10.42</td>\n",
       "      <td>KI</td>\n",
       "      <td>1593605283</td>\n",
       "    </tr>\n",
       "    <tr>\n",
       "      <td>1</td>\n",
       "      <td>yerbogachen</td>\n",
       "      <td>61.28</td>\n",
       "      <td>108.01</td>\n",
       "      <td>79.52</td>\n",
       "      <td>58</td>\n",
       "      <td>20</td>\n",
       "      <td>7.70</td>\n",
       "      <td>RU</td>\n",
       "      <td>1593605121</td>\n",
       "    </tr>\n",
       "    <tr>\n",
       "      <td>2</td>\n",
       "      <td>cape town</td>\n",
       "      <td>-33.93</td>\n",
       "      <td>18.42</td>\n",
       "      <td>73.00</td>\n",
       "      <td>77</td>\n",
       "      <td>27</td>\n",
       "      <td>4.70</td>\n",
       "      <td>ZA</td>\n",
       "      <td>1593605039</td>\n",
       "    </tr>\n",
       "    <tr>\n",
       "      <td>3</td>\n",
       "      <td>touba</td>\n",
       "      <td>8.28</td>\n",
       "      <td>-7.68</td>\n",
       "      <td>79.97</td>\n",
       "      <td>75</td>\n",
       "      <td>82</td>\n",
       "      <td>3.58</td>\n",
       "      <td>CI</td>\n",
       "      <td>1593605284</td>\n",
       "    </tr>\n",
       "    <tr>\n",
       "      <td>4</td>\n",
       "      <td>jamestown</td>\n",
       "      <td>42.10</td>\n",
       "      <td>-79.24</td>\n",
       "      <td>64.00</td>\n",
       "      <td>88</td>\n",
       "      <td>1</td>\n",
       "      <td>6.93</td>\n",
       "      <td>US</td>\n",
       "      <td>1593605284</td>\n",
       "    </tr>\n",
       "  </tbody>\n",
       "</table>\n",
       "</div>"
      ],
      "text/plain": [
       "          City    Lat     Lng  Max Temp  Humidity  Cloudiness  Wind Speed  \\\n",
       "0   butaritari   3.07  172.79     83.32        74          84       10.42   \n",
       "1  yerbogachen  61.28  108.01     79.52        58          20        7.70   \n",
       "2    cape town -33.93   18.42     73.00        77          27        4.70   \n",
       "3        touba   8.28   -7.68     79.97        75          82        3.58   \n",
       "4    jamestown  42.10  -79.24     64.00        88           1        6.93   \n",
       "\n",
       "  Country        Date  \n",
       "0      KI  1593605283  \n",
       "1      RU  1593605121  \n",
       "2      ZA  1593605039  \n",
       "3      CI  1593605284  \n",
       "4      US  1593605284  "
      ]
     },
     "execution_count": 15,
     "metadata": {},
     "output_type": "execute_result"
    }
   ],
   "source": [
    "#DONT RUN THIS CELL"
   ]
  },
  {
   "cell_type": "code",
   "execution_count": 8,
   "metadata": {},
   "outputs": [
    {
     "data": {
      "text/html": [
       "<div>\n",
       "<style scoped>\n",
       "    .dataframe tbody tr th:only-of-type {\n",
       "        vertical-align: middle;\n",
       "    }\n",
       "\n",
       "    .dataframe tbody tr th {\n",
       "        vertical-align: top;\n",
       "    }\n",
       "\n",
       "    .dataframe thead th {\n",
       "        text-align: right;\n",
       "    }\n",
       "</style>\n",
       "<table border=\"1\" class=\"dataframe\">\n",
       "  <thead>\n",
       "    <tr style=\"text-align: right;\">\n",
       "      <th></th>\n",
       "      <th>Lat</th>\n",
       "      <th>Lng</th>\n",
       "      <th>Max Temp</th>\n",
       "      <th>Humidity</th>\n",
       "      <th>Cloudiness</th>\n",
       "      <th>Wind Speed</th>\n",
       "    </tr>\n",
       "  </thead>\n",
       "  <tbody>\n",
       "    <tr>\n",
       "      <th>count</th>\n",
       "      <td>556.0000</td>\n",
       "      <td>556.0000</td>\n",
       "      <td>556.00</td>\n",
       "      <td>556</td>\n",
       "      <td>556</td>\n",
       "      <td>556.00</td>\n",
       "    </tr>\n",
       "    <tr>\n",
       "      <th>unique</th>\n",
       "      <td>555.0000</td>\n",
       "      <td>553.0000</td>\n",
       "      <td>522.00</td>\n",
       "      <td>84</td>\n",
       "      <td>87</td>\n",
       "      <td>357.00</td>\n",
       "    </tr>\n",
       "    <tr>\n",
       "      <th>top</th>\n",
       "      <td>-39.0333</td>\n",
       "      <td>19.7667</td>\n",
       "      <td>63.23</td>\n",
       "      <td>93</td>\n",
       "      <td>100</td>\n",
       "      <td>4.61</td>\n",
       "    </tr>\n",
       "    <tr>\n",
       "      <th>freq</th>\n",
       "      <td>2.0000</td>\n",
       "      <td>2.0000</td>\n",
       "      <td>3.00</td>\n",
       "      <td>26</td>\n",
       "      <td>184</td>\n",
       "      <td>14.00</td>\n",
       "    </tr>\n",
       "  </tbody>\n",
       "</table>\n",
       "</div>"
      ],
      "text/plain": [
       "             Lat       Lng  Max Temp  Humidity  Cloudiness  Wind Speed\n",
       "count   556.0000  556.0000    556.00       556         556      556.00\n",
       "unique  555.0000  553.0000    522.00        84          87      357.00\n",
       "top     -39.0333   19.7667     63.23        93         100        4.61\n",
       "freq      2.0000    2.0000      3.00        26         184       14.00"
      ]
     },
     "execution_count": 8,
     "metadata": {},
     "output_type": "execute_result"
    }
   ],
   "source": [
    "fixed_df[['Lat','Lng','Max Temp','Humidity','Cloudiness','Wind Speed']].describe()"
   ]
  },
  {
   "cell_type": "markdown",
   "metadata": {},
   "source": [
    "## Inspect the data and remove the cities where the humidity > 100%.\n",
    "----\n",
    "Skip this step if there are no cities that have humidity > 100%. "
   ]
  },
  {
   "cell_type": "code",
   "execution_count": 9,
   "metadata": {},
   "outputs": [
    {
     "data": {
      "text/html": [
       "<div>\n",
       "<style scoped>\n",
       "    .dataframe tbody tr th:only-of-type {\n",
       "        vertical-align: middle;\n",
       "    }\n",
       "\n",
       "    .dataframe tbody tr th {\n",
       "        vertical-align: top;\n",
       "    }\n",
       "\n",
       "    .dataframe thead th {\n",
       "        text-align: right;\n",
       "    }\n",
       "</style>\n",
       "<table border=\"1\" class=\"dataframe\">\n",
       "  <thead>\n",
       "    <tr style=\"text-align: right;\">\n",
       "      <th></th>\n",
       "      <th>City</th>\n",
       "      <th>Lat</th>\n",
       "      <th>Lng</th>\n",
       "      <th>Max Temp</th>\n",
       "      <th>Humidity</th>\n",
       "      <th>Cloudiness</th>\n",
       "      <th>Wind Speed</th>\n",
       "      <th>Country</th>\n",
       "      <th>Date</th>\n",
       "    </tr>\n",
       "  </thead>\n",
       "  <tbody>\n",
       "  </tbody>\n",
       "</table>\n",
       "</div>"
      ],
      "text/plain": [
       "Empty DataFrame\n",
       "Columns: [City, Lat, Lng, Max Temp, Humidity, Cloudiness, Wind Speed, Country, Date]\n",
       "Index: []"
      ]
     },
     "execution_count": 9,
     "metadata": {},
     "output_type": "execute_result"
    }
   ],
   "source": [
    "fixed_df.loc[fixed_df['Humidity']>100]"
   ]
  },
  {
   "cell_type": "code",
   "execution_count": 17,
   "metadata": {},
   "outputs": [
    {
     "data": {
      "text/plain": [
       "Int64Index([], dtype='int64')"
      ]
     },
     "execution_count": 17,
     "metadata": {},
     "output_type": "execute_result"
    }
   ],
   "source": [
    "#  Get the indices of cities that have humidity over 100%.\n"
   ]
  },
  {
   "cell_type": "code",
   "execution_count": 19,
   "metadata": {},
   "outputs": [
    {
     "data": {
      "text/html": [
       "<div>\n",
       "<style scoped>\n",
       "    .dataframe tbody tr th:only-of-type {\n",
       "        vertical-align: middle;\n",
       "    }\n",
       "\n",
       "    .dataframe tbody tr th {\n",
       "        vertical-align: top;\n",
       "    }\n",
       "\n",
       "    .dataframe thead th {\n",
       "        text-align: right;\n",
       "    }\n",
       "</style>\n",
       "<table border=\"1\" class=\"dataframe\">\n",
       "  <thead>\n",
       "    <tr style=\"text-align: right;\">\n",
       "      <th></th>\n",
       "      <th>City</th>\n",
       "      <th>Lat</th>\n",
       "      <th>Lng</th>\n",
       "      <th>Max Temp</th>\n",
       "      <th>Humidity</th>\n",
       "      <th>Cloudiness</th>\n",
       "      <th>Wind Speed</th>\n",
       "      <th>Country</th>\n",
       "      <th>Date</th>\n",
       "    </tr>\n",
       "  </thead>\n",
       "  <tbody>\n",
       "    <tr>\n",
       "      <td>0</td>\n",
       "      <td>butaritari</td>\n",
       "      <td>3.07</td>\n",
       "      <td>172.79</td>\n",
       "      <td>83.32</td>\n",
       "      <td>74</td>\n",
       "      <td>84</td>\n",
       "      <td>10.42</td>\n",
       "      <td>KI</td>\n",
       "      <td>1593605283</td>\n",
       "    </tr>\n",
       "    <tr>\n",
       "      <td>1</td>\n",
       "      <td>yerbogachen</td>\n",
       "      <td>61.28</td>\n",
       "      <td>108.01</td>\n",
       "      <td>79.52</td>\n",
       "      <td>58</td>\n",
       "      <td>20</td>\n",
       "      <td>7.70</td>\n",
       "      <td>RU</td>\n",
       "      <td>1593605121</td>\n",
       "    </tr>\n",
       "    <tr>\n",
       "      <td>2</td>\n",
       "      <td>cape town</td>\n",
       "      <td>-33.93</td>\n",
       "      <td>18.42</td>\n",
       "      <td>73.00</td>\n",
       "      <td>77</td>\n",
       "      <td>27</td>\n",
       "      <td>4.70</td>\n",
       "      <td>ZA</td>\n",
       "      <td>1593605039</td>\n",
       "    </tr>\n",
       "    <tr>\n",
       "      <td>3</td>\n",
       "      <td>touba</td>\n",
       "      <td>8.28</td>\n",
       "      <td>-7.68</td>\n",
       "      <td>79.97</td>\n",
       "      <td>75</td>\n",
       "      <td>82</td>\n",
       "      <td>3.58</td>\n",
       "      <td>CI</td>\n",
       "      <td>1593605284</td>\n",
       "    </tr>\n",
       "    <tr>\n",
       "      <td>4</td>\n",
       "      <td>jamestown</td>\n",
       "      <td>42.10</td>\n",
       "      <td>-79.24</td>\n",
       "      <td>64.00</td>\n",
       "      <td>88</td>\n",
       "      <td>1</td>\n",
       "      <td>6.93</td>\n",
       "      <td>US</td>\n",
       "      <td>1593605284</td>\n",
       "    </tr>\n",
       "  </tbody>\n",
       "</table>\n",
       "</div>"
      ],
      "text/plain": [
       "          City    Lat     Lng  Max Temp  Humidity  Cloudiness  Wind Speed  \\\n",
       "0   butaritari   3.07  172.79     83.32        74          84       10.42   \n",
       "1  yerbogachen  61.28  108.01     79.52        58          20        7.70   \n",
       "2    cape town -33.93   18.42     73.00        77          27        4.70   \n",
       "3        touba   8.28   -7.68     79.97        75          82        3.58   \n",
       "4    jamestown  42.10  -79.24     64.00        88           1        6.93   \n",
       "\n",
       "  Country        Date  \n",
       "0      KI  1593605283  \n",
       "1      RU  1593605121  \n",
       "2      ZA  1593605039  \n",
       "3      CI  1593605284  \n",
       "4      US  1593605284  "
      ]
     },
     "execution_count": 19,
     "metadata": {},
     "output_type": "execute_result"
    }
   ],
   "source": [
    "# Make a new DataFrame equal to the city data to drop all humidity outliers by index.\n",
    "# Passing \"inplace=False\" will make a copy of the city_data DataFrame, which we call \"clean_city_data\".\n",
    "\n",
    "#DONT RUN THIS CELL"
   ]
  },
  {
   "cell_type": "code",
   "execution_count": null,
   "metadata": {},
   "outputs": [],
   "source": [
    "\n"
   ]
  },
  {
   "cell_type": "markdown",
   "metadata": {},
   "source": [
    "## Plotting the Data\n",
    "* Use proper labeling of the plots using plot titles (including date of analysis) and axes labels.\n",
    "* Save the plotted figures as .pngs."
   ]
  },
  {
   "cell_type": "markdown",
   "metadata": {},
   "source": [
    "## Latitude vs. Temperature Plot"
   ]
  },
  {
   "cell_type": "code",
   "execution_count": 32,
   "metadata": {
    "scrolled": true
   },
   "outputs": [
    {
     "data": {
      "image/png": "[encoded data removed]",
      "text/plain": [
       "<Figure size 432x288 with 1 Axes>"
      ]
     },
     "metadata": {
      "needs_background": "light"
     },
     "output_type": "display_data"
    },
    {
     "data": {
      "text/plain": [
       "<Figure size 432x288 with 0 Axes>"
      ]
     },
     "metadata": {},
     "output_type": "display_data"
    }
   ],
   "source": [
    "fixed_df.plot(kind='scatter', x='Lat', y='Max Temp', grid=True, title = 'City Latitude vs. Max Temperature (02/21/22)' )\n",
    "plt.xlabel('Latitude')\n",
    "plt.ylabel('Max Temperature (F°)')\n",
    "plt.show()\n",
    "plt.savefig('Weather Output/lat_vs_temp_plot.png')"
   ]
  },
  {
   "cell_type": "code",
   "execution_count": null,
   "metadata": {},
   "outputs": [],
   "source": [
    "#The code is graphing the latitude vs temperature scatter plot. There is a peak in the middle since temperature is the highest near the equator,\n",
    "# or where latitude is 0."
   ]
  },
  {
   "cell_type": "markdown",
   "metadata": {},
   "source": [
    "## Latitude vs. Humidity Plot"
   ]
  },
  {
   "cell_type": "code",
   "execution_count": 33,
   "metadata": {},
   "outputs": [
    {
     "data": {
      "image/png": "[encoded data removed]",
      "text/plain": [
       "<Figure size 432x288 with 1 Axes>"
      ]
     },
     "metadata": {
      "needs_background": "light"
     },
     "output_type": "display_data"
    },
    {
     "data": {
      "text/plain": [
       "<Figure size 432x288 with 0 Axes>"
      ]
     },
     "metadata": {},
     "output_type": "display_data"
    }
   ],
   "source": [
    "fixed_df.plot(kind='scatter', x='Lat', y='Humidity', grid=True, title = 'City Latitude vs. Humidity (02/21/22)')\n",
    "plt.xlabel('Latitude')\n",
    "plt.ylabel('Humidity (%)')\n",
    "plt.show()\n",
    "plt.savefig('Weather Output/lat_vs_humidity_plot.png')\n"
   ]
  },
  {
   "cell_type": "code",
   "execution_count": null,
   "metadata": {},
   "outputs": [],
   "source": [
    "#The code is graphing the latitude vs humidity scatter plot. There does not seem to be a correlation."
   ]
  },
  {
   "cell_type": "markdown",
   "metadata": {},
   "source": [
    "## Latitude vs. Cloudiness Plot"
   ]
  },
  {
   "cell_type": "code",
   "execution_count": 34,
   "metadata": {},
   "outputs": [
    {
     "data": {
      "image/png": "[encoded data removed]",
      "text/plain": [
       "<Figure size 432x288 with 1 Axes>"
      ]
     },
     "metadata": {
      "needs_background": "light"
     },
     "output_type": "display_data"
    },
    {
     "data": {
      "text/plain": [
       "<Figure size 432x288 with 0 Axes>"
      ]
     },
     "metadata": {},
     "output_type": "display_data"
    }
   ],
   "source": [
    "fixed_df.plot(kind='scatter', x='Lat', y='Cloudiness', grid=True, title = 'City Latitude vs. Cloudiness (02/21/22)')\n",
    "plt.xlabel('Latitude')\n",
    "plt.ylabel('Cloudiness (%)')\n",
    "plt.show()\n",
    "plt.savefig('Weather Output/city_vs_clouds_plot.png')\n"
   ]
  },
  {
   "cell_type": "code",
   "execution_count": null,
   "metadata": {},
   "outputs": [],
   "source": [
    "#The code is graphing the latitude vs cloudiness scatter plot. There does not seem to be a correlation."
   ]
  },
  {
   "cell_type": "markdown",
   "metadata": {},
   "source": [
    "## Latitude vs. Wind Speed Plot"
   ]
  },
  {
   "cell_type": "code",
   "execution_count": 35,
   "metadata": {},
   "outputs": [
    {
     "data": {
      "image/png": "[encoded data removed]",
      "text/plain": [
       "<Figure size 432x288 with 1 Axes>"
      ]
     },
     "metadata": {
      "needs_background": "light"
     },
     "output_type": "display_data"
    },
    {
     "data": {
      "text/plain": [
       "<Figure size 432x288 with 0 Axes>"
      ]
     },
     "metadata": {},
     "output_type": "display_data"
    }
   ],
   "source": [
    "fixed_df.plot(kind='scatter', x='Lat', y='Wind Speed', grid=True, title = 'City Latitude vs. Wind Speed (02/21/22)')\n",
    "plt.xlabel('Latitude')\n",
    "plt.ylabel('Wind Speed (mph)')\n",
    "plt.show()\n",
    "plt.savefig('Weather Output/city_vs_wind_plot.png')"
   ]
  },
  {
   "cell_type": "code",
   "execution_count": null,
   "metadata": {},
   "outputs": [],
   "source": [
    "#The code is graphing the latitude vs wind speed scatter plot. The graph shows that wind speed does not exceed 30 mph in most cases.\n",
    "#The peak on the right of the graph could be an outlier."
   ]
  },
  {
   "cell_type": "markdown",
   "metadata": {},
   "source": [
    "## Linear Regression"
   ]
  },
  {
   "cell_type": "code",
   "execution_count": 23,
   "metadata": {},
   "outputs": [],
   "source": [
    "north_df = fixed_df.loc[fixed_df['Lat']>=0]\n",
    "south_df = fixed_df.loc[fixed_df['Lat']<0]"
   ]
  },
  {
   "cell_type": "markdown",
   "metadata": {},
   "source": [
    "####  Northern Hemisphere - Max Temp vs. Latitude Linear Regression"
   ]
  },
  {
   "cell_type": "code",
   "execution_count": null,
   "metadata": {},
   "outputs": [],
   "source": [
    "#A trend shown in the Max Temperature vs, Latitude linear regression graphs is that temperature decreases as latitude increases in\n",
    "#the Northern hemisphere. In the Southern hemisphere, as the latitude decreases, the temperature also decreases."
   ]
  },
  {
   "cell_type": "code",
   "execution_count": 36,
   "metadata": {},
   "outputs": [
    {
     "name": "stdout",
     "output_type": "stream",
     "text": [
      "The r-value is: 0.7320079590067021\n"
     ]
    },
    {
     "data": {
      "image/png": "[encoded data removed]",
      "text/plain": [
       "<Figure size 432x288 with 1 Axes>"
      ]
     },
     "metadata": {
      "needs_background": "light"
     },
     "output_type": "display_data"
    }
   ],
   "source": [
    "x_values = np.float64(north_df['Lat'])\n",
    "y_values = np.float64(north_df['Max Temp'])\n",
    "(slope, intercept, rvalue, pvalue, stderr) = linregress(x_values, y_values)\n",
    "regress_values = x_values * slope + intercept\n",
    "line_eq = \"y = \" + str(round(slope,2)) + \"x + \" + str(round(intercept,2))\n",
    "plt.scatter(x_values, y_values)\n",
    "plt.plot(x_values,regress_values, \"r-\")\n",
    "plt.annotate(line_eq,(6,10),fontsize=15,color=\"red\")\n",
    "plt.xlabel('Latitude')\n",
    "plt.ylabel('Max Temp')\n",
    "print(f\"The r-value is: {rvalue**2}\")\n",
    "plt.title('Northern Hemisphere - Max Temp vs. Latitude Linear Regression (02/21/22)')\n",
    "plt.grid()\n",
    "plt.savefig('Weather Output/north_temp_vs_lat.png')"
   ]
  },
  {
   "cell_type": "markdown",
   "metadata": {},
   "source": [
    "####  Southern Hemisphere - Max Temp vs. Latitude Linear Regression"
   ]
  },
  {
   "cell_type": "code",
   "execution_count": 37,
   "metadata": {},
   "outputs": [
    {
     "name": "stdout",
     "output_type": "stream",
     "text": [
      "The r-value is: 0.2736939427261671\n"
     ]
    },
    {
     "data": {
      "image/png": "[encoded data removed]",
      "text/plain": [
       "<Figure size 432x288 with 1 Axes>"
      ]
     },
     "metadata": {
      "needs_background": "light"
     },
     "output_type": "display_data"
    }
   ],
   "source": [
    "x_values = np.float64(south_df['Lat'])\n",
    "y_values = np.float64(south_df['Max Temp'])\n",
    "(slope, intercept, rvalue, pvalue, stderr) = linregress(x_values, y_values)\n",
    "regress_values = x_values * slope + intercept\n",
    "line_eq = \"y = \" + str(round(slope,2)) + \"x + \" + str(round(intercept,2))\n",
    "plt.scatter(x_values, y_values)\n",
    "plt.plot(x_values,regress_values, \"r-\")\n",
    "plt.annotate(line_eq,(6,10),fontsize=15,color=\"red\")\n",
    "plt.xlabel('Latitude')\n",
    "plt.ylabel('Max Temp')\n",
    "print(f\"The r-value is: {rvalue**2}\")\n",
    "plt.title('Southern Hemisphere - Max Temp vs. Latitude Linear Regression (02/21/22)')\n",
    "plt.grid()\n",
    "plt.savefig('Weather Output/south_temp_vs_lat.png')"
   ]
  },
  {
   "cell_type": "markdown",
   "metadata": {},
   "source": [
    "####  Northern Hemisphere - Humidity (%) vs. Latitude Linear Regression"
   ]
  },
  {
   "cell_type": "code",
   "execution_count": null,
   "metadata": {},
   "outputs": [],
   "source": [
    "#A trend show in the Humidity vs Latitude Linear Regression graphs is that humidity increases as latitude increases, for both hemispheres."
   ]
  },
  {
   "cell_type": "code",
   "execution_count": 38,
   "metadata": {},
   "outputs": [
    {
     "name": "stdout",
     "output_type": "stream",
     "text": [
      "The r-value is: 0.11867766752024371\n"
     ]
    },
    {
     "data": {
      "image/png": "[encoded data removed]",
      "text/plain": [
       "<Figure size 432x288 with 1 Axes>"
      ]
     },
     "metadata": {
      "needs_background": "light"
     },
     "output_type": "display_data"
    }
   ],
   "source": [
    "x_values = np.float64(north_df['Lat'])\n",
    "y_values = np.float64(north_df['Humidity'])\n",
    "(slope, intercept, rvalue, pvalue, stderr) = linregress(x_values, y_values)\n",
    "regress_values = x_values * slope + intercept\n",
    "line_eq = \"y = \" + str(round(slope,2)) + \"x + \" + str(round(intercept,2))\n",
    "plt.scatter(x_values, y_values)\n",
    "plt.plot(x_values,regress_values, \"r-\")\n",
    "plt.annotate(line_eq,(6,10),fontsize=15,color=\"red\")\n",
    "plt.xlabel('Latitude')\n",
    "plt.ylabel('Humidity')\n",
    "print(f\"The r-value is: {rvalue**2}\")\n",
    "plt.title('Northern Hemisphere - Humidity (%) vs. Latitude Linear Regression (02/21/22)')\n",
    "plt.grid()\n",
    "plt.savefig('Weather Output/north_humidity_vs_lat.png')"
   ]
  },
  {
   "cell_type": "markdown",
   "metadata": {},
   "source": [
    "####  Southern Hemisphere - Humidity (%) vs. Latitude Linear Regression"
   ]
  },
  {
   "cell_type": "code",
   "execution_count": 39,
   "metadata": {},
   "outputs": [
    {
     "name": "stdout",
     "output_type": "stream",
     "text": [
      "The r-value is: 0.11571109665332116\n"
     ]
    },
    {
     "data": {
      "image/png": "[encoded data removed]",
      "text/plain": [
       "<Figure size 432x288 with 1 Axes>"
      ]
     },
     "metadata": {
      "needs_background": "light"
     },
     "output_type": "display_data"
    }
   ],
   "source": [
    "x_values = np.float64(south_df['Lat'])\n",
    "y_values = np.float64(south_df['Humidity'])\n",
    "(slope, intercept, rvalue, pvalue, stderr) = linregress(x_values, y_values)\n",
    "regress_values = x_values * slope + intercept\n",
    "line_eq = \"y = \" + str(round(slope,2)) + \"x + \" + str(round(intercept,2))\n",
    "plt.scatter(x_values, y_values)\n",
    "plt.plot(x_values,regress_values, \"r-\")\n",
    "plt.annotate(line_eq,(6,10),fontsize=15,color=\"red\")\n",
    "plt.xlabel('Latitude')\n",
    "plt.ylabel('Humidity')\n",
    "print(f\"The r-value is: {rvalue**2}\")\n",
    "plt.title('Southern Hemisphere - Humidity (%) vs. Latitude Linear Regression (02/21/22)')\n",
    "plt.grid()\n",
    "plt.savefig('Weather Output/south_humidity_vs_lat.png')"
   ]
  },
  {
   "cell_type": "markdown",
   "metadata": {},
   "source": [
    "####  Northern Hemisphere - Cloudiness (%) vs. Latitude Linear Regression"
   ]
  },
  {
   "cell_type": "code",
   "execution_count": null,
   "metadata": {},
   "outputs": [],
   "source": [
    "#A trend show in the Cloudiness vs Latitude Linear Regression graphs is that cloudiness increases as latitude increases, for both hemispheres."
   ]
  },
  {
   "cell_type": "code",
   "execution_count": 40,
   "metadata": {},
   "outputs": [
    {
     "name": "stdout",
     "output_type": "stream",
     "text": [
      "The r-value is: 0.05119711446057183\n"
     ]
    },
    {
     "data": {
      "image/png": "[encoded data removed]",
      "text/plain": [
       "<Figure size 432x288 with 1 Axes>"
      ]
     },
     "metadata": {
      "needs_background": "light"
     },
     "output_type": "display_data"
    }
   ],
   "source": [
    "x_values = np.float64(north_df['Lat'])\n",
    "y_values = np.float64(north_df['Cloudiness'])\n",
    "(slope, intercept, rvalue, pvalue, stderr) = linregress(x_values, y_values)\n",
    "regress_values = x_values * slope + intercept\n",
    "line_eq = \"y = \" + str(round(slope,2)) + \"x + \" + str(round(intercept,2))\n",
    "plt.scatter(x_values, y_values)\n",
    "plt.plot(x_values,regress_values, \"r-\")\n",
    "plt.annotate(line_eq,(6,10),fontsize=15,color=\"red\")\n",
    "plt.xlabel('Latitude')\n",
    "plt.ylabel('Cloudiness')\n",
    "print(f\"The r-value is: {rvalue**2}\")\n",
    "plt.title('Northern Hemisphere - Cloudiness (%) vs. Latitude Linear Regression (02/21/22)')\n",
    "plt.grid()\n",
    "plt.savefig('Weather Output/north_cloud_vs_lat.png')"
   ]
  },
  {
   "cell_type": "markdown",
   "metadata": {},
   "source": [
    "####  Southern Hemisphere - Cloudiness (%) vs. Latitude Linear Regression"
   ]
  },
  {
   "cell_type": "code",
   "execution_count": 41,
   "metadata": {},
   "outputs": [
    {
     "name": "stdout",
     "output_type": "stream",
     "text": [
      "The r-value is: 0.08660569424256151\n"
     ]
    },
    {
     "data": {
      "image/png": "[encoded data removed]",
      "text/plain": [
       "<Figure size 432x288 with 1 Axes>"
      ]
     },
     "metadata": {
      "needs_background": "light"
     },
     "output_type": "display_data"
    }
   ],
   "source": [
    "x_values = np.float64(south_df['Lat'])\n",
    "y_values = np.float64(south_df['Cloudiness'])\n",
    "(slope, intercept, rvalue, pvalue, stderr) = linregress(x_values, y_values)\n",
    "regress_values = x_values * slope + intercept\n",
    "line_eq = \"y = \" + str(round(slope,2)) + \"x + \" + str(round(intercept,2))\n",
    "plt.scatter(x_values, y_values)\n",
    "plt.plot(x_values,regress_values, \"r-\")\n",
    "plt.annotate(line_eq,(6,10),fontsize=15,color=\"red\")\n",
    "plt.xlabel('Latitude')\n",
    "plt.ylabel('Cloudiness')\n",
    "print(f\"The r-value is: {rvalue**2}\")\n",
    "plt.title('Southern Hemisphere - Cloudiness (%) vs. Latitude Linear Regression (02/21/22)')\n",
    "plt.grid()\n",
    "plt.savefig('Weather Output/south_cloud_vs_lat.png')"
   ]
  },
  {
   "cell_type": "markdown",
   "metadata": {},
   "source": [
    "####  Northern Hemisphere - Wind Speed (mph) vs. Latitude Linear Regression"
   ]
  },
  {
   "cell_type": "code",
   "execution_count": null,
   "metadata": {},
   "outputs": [],
   "source": [
    "#A trend shown in the Wind Speed vs, Latitude linear regression graphs is that wind speed increases as latitude increases in\n",
    "#the Northern hemisphere. In the Southern hemisphere, as the latitude decreases, the wind speed increases as well."
   ]
  },
  {
   "cell_type": "code",
   "execution_count": 42,
   "metadata": {},
   "outputs": [
    {
     "name": "stdout",
     "output_type": "stream",
     "text": [
      "The r-value is: 0.03125762922006068\n"
     ]
    },
    {
     "data": {
      "image/png": "[encoded data removed]",
      "text/plain": [
       "<Figure size 432x288 with 1 Axes>"
      ]
     },
     "metadata": {
      "needs_background": "light"
     },
     "output_type": "display_data"
    }
   ],
   "source": [
    "x_values = np.float64(north_df['Lat'])\n",
    "y_values = np.float64(north_df['Wind Speed'])\n",
    "(slope, intercept, rvalue, pvalue, stderr) = linregress(x_values, y_values)\n",
    "regress_values = x_values * slope + intercept\n",
    "line_eq = \"y = \" + str(round(slope,2)) + \"x + \" + str(round(intercept,2))\n",
    "plt.scatter(x_values, y_values)\n",
    "plt.plot(x_values,regress_values, \"r-\")\n",
    "plt.annotate(line_eq,(6,10),fontsize=15,color=\"red\")\n",
    "plt.xlabel('Latitude')\n",
    "plt.ylabel('Wind Speed')\n",
    "print(f\"The r-value is: {rvalue**2}\")\n",
    "plt.title('Northern Hemisphere - Wind Speed (mph) vs. Latitude Linear Regression (02/21/22)')\n",
    "plt.grid()\n",
    "plt.savefig('Weather Output/north_wind_vs_lat.png')"
   ]
  },
  {
   "cell_type": "markdown",
   "metadata": {},
   "source": [
    "####  Southern Hemisphere - Wind Speed (mph) vs. Latitude Linear Regression"
   ]
  },
  {
   "cell_type": "code",
   "execution_count": 31,
   "metadata": {},
   "outputs": [
    {
     "name": "stdout",
     "output_type": "stream",
     "text": [
      "The r-value is: 0.01200759714806903\n"
     ]
    },
    {
     "data": {
      "image/png": "[encoded data removed]",
      "text/plain": [
       "<Figure size 432x288 with 1 Axes>"
      ]
     },
     "metadata": {
      "needs_background": "light"
     },
     "output_type": "display_data"
    }
   ],
   "source": [
    "x_values = np.float64(south_df['Lat'])\n",
    "y_values = np.float64(south_df['Wind Speed'])\n",
    "(slope, intercept, rvalue, pvalue, stderr) = linregress(x_values, y_values)\n",
    "regress_values = x_values * slope + intercept\n",
    "line_eq = \"y = \" + str(round(slope,2)) + \"x + \" + str(round(intercept,2))\n",
    "plt.scatter(x_values, y_values)\n",
    "plt.plot(x_values,regress_values, \"r-\")\n",
    "plt.annotate(line_eq,(6,10),fontsize=15,color=\"red\")\n",
    "plt.xlabel('Latitude')\n",
    "plt.ylabel('Wind Speed ')\n",
    "print(f\"The r-value is: {rvalue**2}\")\n",
    "plt.title('Southern Hemisphere - Wind Speed (mph) vs. Latitude Linear Regression (02/21/22)')\n",
    "plt.grid()\n",
    "plt.savefig('Weather Output/south_wind_vs_lat.png')"
   ]
  },
  {
   "cell_type": "code",
   "execution_count": null,
   "metadata": {},
   "outputs": [],
   "source": [
    "#DONT RUN THIS CELL"
   ]
  }
 ],
 "metadata": {
  "anaconda-cloud": {},
  "interpreter": {
   "hash": "8df4313e2f5fe811950a2aba1a35e3393e3ece78fd7c8992ec49ad34c2d2d6f1"
  },
  "kernel_info": {
   "name": "python3"
  },
  "kernelspec": {
   "display_name": "mypydev",
   "language": "python",
   "name": "python3"
  },
  "language_info": {
   "codemirror_mode": {
    "name": "ipython",
    "version": 3
   },
   "file_extension": ".py",
   "mimetype": "text/x-python",
   "name": "python",
   "nbconvert_exporter": "python",
   "pygments_lexer": "ipython3",
   "version": "3.6.10"
  },
  "latex_envs": {
   "LaTeX_envs_menu_present": true,
   "autoclose": false,
   "autocomplete": true,
   "bibliofile": "biblio.bib",
   "cite_by": "apalike",
   "current_citInitial": 1,
   "eqLabelWithNumbers": true,
   "eqNumInitial": 1,
   "hotkeys": {
    "equation": "Ctrl-E",
    "itemize": "Ctrl-I"
   },
   "labels_anchors": false,
   "latex_user_defs": false,
   "report_style_numbering": false,
   "user_envs_cfg": false
  },
  "nteract": {
   "version": "0.12.3"
  }
 },
 "nbformat": 4,
 "nbformat_minor": 2
}
